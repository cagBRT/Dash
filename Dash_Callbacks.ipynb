{
  "nbformat": 4,
  "nbformat_minor": 0,
  "metadata": {
    "colab": {
      "private_outputs": true,
      "provenance": [],
      "authorship_tag": "ABX9TyMDTCV3EC3NX/sATgmTf/CT",
      "include_colab_link": true
    },
    "kernelspec": {
      "name": "python3",
      "display_name": "Python 3"
    },
    "language_info": {
      "name": "python"
    }
  },
  "cells": [
    {
      "cell_type": "markdown",
      "metadata": {
        "id": "view-in-github",
        "colab_type": "text"
      },
      "source": [
        "<a href=\"https://colab.research.google.com/github/cagBRT/Dash/blob/main/Dash_Callbacks.ipynb\" target=\"_parent\"><img src=\"https://colab.research.google.com/assets/colab-badge.svg\" alt=\"Open In Colab\"/></a>"
      ]
    },
    {
      "cell_type": "markdown",
      "source": [
        "# Adding Callbacks to a Dash App"
      ],
      "metadata": {
        "id": "5AWz-blWzr4l"
      }
    },
    {
      "cell_type": "code",
      "source": [
        "!pip install jupyter-dash"
      ],
      "metadata": {
        "id": "1jssVCpxyVQT"
      },
      "execution_count": null,
      "outputs": []
    },
    {
      "cell_type": "code",
      "source": [
        "import plotly.express as px\n",
        "from jupyter_dash import JupyterDash\n",
        "from dash.dependencies import Input, Output\n",
        "from dash import html\n",
        "from dash import dcc"
      ],
      "metadata": {
        "id": "WSoxxpcbyWgb"
      },
      "execution_count": null,
      "outputs": []
    },
    {
      "cell_type": "markdown",
      "source": [
        "We use html to create the layout for the app"
      ],
      "metadata": {
        "id": "oCpXqxKk0SH_"
      }
    },
    {
      "cell_type": "markdown",
      "source": [
        "# Example 1\n",
        "This first example asks for an input from a text input box and then prints that text to the web page"
      ],
      "metadata": {
        "id": "U-M_ytHC2FoP"
      }
    },
    {
      "cell_type": "code",
      "source": [
        "# Build App\n",
        "app = JupyterDash(__name__)\n",
        "app.layout = html.Div([\n",
        "    html.H6(\"Change the value in the text box to see callbacks in action!\"),\n",
        "    html.Div([\n",
        "        \"Input: \",\n",
        "        dcc.Input(id='my-input', value='initial value', type='text')\n",
        "    ]),\n",
        "    html.Br(),\n",
        "    html.Div(id='my-output'),\n",
        "\n",
        "])"
      ],
      "metadata": {
        "id": "5wUNXu_fye1R"
      },
      "execution_count": null,
      "outputs": []
    },
    {
      "cell_type": "markdown",
      "source": [
        "Components in Dash usually update through user interaction like selecting a dropdown, dragging a slider, or hovering over points.\n",
        "\n"
      ],
      "metadata": {
        "id": "EyNl1xHw1wzq"
      }
    },
    {
      "cell_type": "markdown",
      "source": [
        "**Callbacks in Dash:** <br>\n",
        "Making it interactive\n",
        "Now, let’s have a look at how we can create the callback that will connect the dropdown and the stock prices line chart.\n",
        "\n",
        "A callback is initialised using @app.callback(), which is followed by a function definition. Within this function, we define what happens on changing the value of the dropdown.<br>\n"
      ],
      "metadata": {
        "id": "Q9OaQQF73aRO"
      }
    },
    {
      "cell_type": "markdown",
      "source": [
        "Whenever the input value changes, the callback wrapper gets called automatically.\n",
        "<br>\n",
        "Component_id and component_property are keywords and optional in a callback. We saw this with the \"Plotly 4 Dash\" notebook. We did not have any inputs or outputs in the app, so we did not need the component_id or component_property. "
      ],
      "metadata": {
        "id": "xDZFf2G923nj"
      }
    },
    {
      "cell_type": "markdown",
      "source": [
        "Notice how we don't set a value for the children property of the my-output component in the layout. When the Dash app starts, it automatically calls all of the callbacks with the initial values of the input components in order to populate the initial state of the output components."
      ],
      "metadata": {
        "id": "bphyVb3735cS"
      }
    },
    {
      "cell_type": "code",
      "execution_count": null,
      "metadata": {
        "id": "2xfr_pLQx2Jl"
      },
      "outputs": [],
      "source": [
        "# Define callback inputs and outputs\n",
        "@app.callback(\n",
        "    Output(component_id='my-output', component_property='children'),\n",
        "    Input(component_id='my-input', component_property='value')\n",
        ")\n",
        "def update_output_div(input_value):\n",
        "    return f'Output: {input_value}'\n"
      ]
    },
    {
      "cell_type": "code",
      "source": [
        "# Run app and display result inline in the notebook\n",
        "app.run_server(mode='inline')"
      ],
      "metadata": {
        "id": "1FOVRcvE2Qf6"
      },
      "execution_count": null,
      "outputs": []
    },
    {
      "cell_type": "markdown",
      "source": [
        "# Dash App with Multiple Inputs"
      ],
      "metadata": {
        "id": "Iixmen504SkP"
      }
    },
    {
      "cell_type": "code",
      "source": [
        "import pandas as pd"
      ],
      "metadata": {
        "id": "QosbtFjE4xw3"
      },
      "execution_count": null,
      "outputs": []
    },
    {
      "cell_type": "code",
      "source": [
        "app = JupyterDash(__name__)\n",
        "\n",
        "df = pd.read_csv('https://plotly.github.io/datasets/country_indicators.csv')\n",
        "\n",
        "app.layout = html.Div([\n",
        "    html.Div([\n",
        "        html.Div([\n",
        "            dcc.Dropdown(\n",
        "                df['Indicator Name'].unique(),\n",
        "                'Fertility rate, total (births per woman)',\n",
        "                id='xaxis-column'\n",
        "            ),\n",
        "            dcc.RadioItems(\n",
        "                ['Linear', 'Log'],\n",
        "                'Linear',\n",
        "                id='xaxis-type',\n",
        "                inline=True\n",
        "            )\n",
        "        ], style={'width': '48%', 'display': 'inline-block'}),\n",
        "\n",
        "        html.Div([\n",
        "            dcc.Dropdown(\n",
        "                df['Indicator Name'].unique(),\n",
        "                'Life expectancy at birth, total (years)',\n",
        "                id='yaxis-column'\n",
        "            ),\n",
        "            dcc.RadioItems(\n",
        "                ['Linear', 'Log'],\n",
        "                'Linear',\n",
        "                id='yaxis-type',\n",
        "                inline=True\n",
        "            )\n",
        "        ], style={'width': '48%', 'float': 'right', 'display': 'inline-block'})\n",
        "    ]),\n",
        "\n",
        "    dcc.Graph(id='indicator-graphic'),\n",
        "\n",
        "    dcc.Slider(\n",
        "        df['Year'].min(),\n",
        "        df['Year'].max(),\n",
        "        step=None,\n",
        "        id='year--slider',\n",
        "        value=df['Year'].max(),\n",
        "        marks={str(year): str(year) for year in df['Year'].unique()},\n",
        "\n",
        "    )\n",
        "])"
      ],
      "metadata": {
        "id": "9Gi4RI_x46CD"
      },
      "execution_count": null,
      "outputs": []
    },
    {
      "cell_type": "code",
      "source": [
        "@app.callback(\n",
        "    Output('indicator-graphic', 'figure'),\n",
        "    Input('xaxis-column', 'value'),\n",
        "    Input('yaxis-column', 'value'),\n",
        "    Input('xaxis-type', 'value'),\n",
        "    Input('yaxis-type', 'value'),\n",
        "    Input('year--slider', 'value'))\n",
        "def update_graph(xaxis_column_name, yaxis_column_name,\n",
        "                 xaxis_type, yaxis_type,\n",
        "                 year_value):\n",
        "    dff = df[df['Year'] == year_value]\n",
        "\n",
        "    fig = px.scatter(x=dff[dff['Indicator Name'] == xaxis_column_name]['Value'],\n",
        "                     y=dff[dff['Indicator Name'] == yaxis_column_name]['Value'],\n",
        "                     hover_name=dff[dff['Indicator Name'] == yaxis_column_name]['Country Name'])\n",
        "\n",
        "    fig.update_layout(margin={'l': 40, 'b': 40, 't': 10, 'r': 0}, hovermode='closest')\n",
        "\n",
        "    fig.update_xaxes(title=xaxis_column_name,\n",
        "                     type='linear' if xaxis_type == 'Linear' else 'log')\n",
        "\n",
        "    fig.update_yaxes(title=yaxis_column_name,\n",
        "                     type='linear' if yaxis_type == 'Linear' else 'log')\n",
        "\n",
        "    return fig\n"
      ],
      "metadata": {
        "id": "mRRu_6Dj48BK"
      },
      "execution_count": null,
      "outputs": []
    },
    {
      "cell_type": "code",
      "source": [
        "if __name__ == '__main__':\n",
        "    app.run_server(debug=True)\n",
        "    #app.run_server(mode='inline')"
      ],
      "metadata": {
        "id": "s4tzvxFM4hOJ"
      },
      "execution_count": null,
      "outputs": []
    },
    {
      "cell_type": "markdown",
      "source": [
        "# App with Multiple Outputs"
      ],
      "metadata": {
        "id": "iVX26Z5a5dHo"
      }
    },
    {
      "cell_type": "code",
      "source": [
        "#If you want to use an external style sheet this is where you would \n",
        "#put it\n",
        "#external_stylesheets = ['https://codepen.io/chriddyp/pen/bWLwgP.css']\n",
        "\n",
        "app = JupyterDash(__name__, external_stylesheets=external_stylesheets)\n",
        "\n",
        "app.layout = html.Div([\n",
        "    dcc.Input(\n",
        "        id='num-multi',\n",
        "        type='number',\n",
        "        value=5\n",
        "    ),\n",
        "    html.Table([\n",
        "        html.Tr([html.Td(['x', html.Sup(2)]), html.Td(id='square')]),\n",
        "        html.Tr([html.Td(['x', html.Sup(3)]), html.Td(id='cube')]),\n",
        "        html.Tr([html.Td([2, html.Sup('x')]), html.Td(id='twos')]),\n",
        "        html.Tr([html.Td([3, html.Sup('x')]), html.Td(id='threes')]),\n",
        "        html.Tr([html.Td(['x', html.Sup('x')]), html.Td(id='x^x')]),\n",
        "    ]),\n",
        "])\n",
        "\n"
      ],
      "metadata": {
        "id": "xNXjYH1k5jVU"
      },
      "execution_count": null,
      "outputs": []
    },
    {
      "cell_type": "code",
      "source": [
        "@app.callback(\n",
        "    Output('square', 'children'),\n",
        "    Output('cube', 'children'),\n",
        "    Output('twos', 'children'),\n",
        "    Output('threes', 'children'),\n",
        "    Output('x^x', 'children'),\n",
        "    Input('num-multi', 'value'))\n",
        "def callback_a(x):\n",
        "    return x**2, x**3, 2**x, 3**x, x**x"
      ],
      "metadata": {
        "id": "iLa08iNn53-n"
      },
      "execution_count": null,
      "outputs": []
    },
    {
      "cell_type": "code",
      "source": [
        "if __name__ == '__main__':\n",
        "    app.run_server(debug=True)\n",
        "    #app.run_server(mode='inline')"
      ],
      "metadata": {
        "id": "OJxDfEE0556j"
      },
      "execution_count": null,
      "outputs": []
    },
    {
      "cell_type": "markdown",
      "source": [
        "# App with Chained Callbacks"
      ],
      "metadata": {
        "id": "OMRN75Lq6IUC"
      }
    },
    {
      "cell_type": "markdown",
      "source": [
        "With this example, the user is given two options New York or Canada. <br>\n",
        "Once the user selects a country, the cities for that country are displayed. <br>\n",
        "This is are chained callbacks"
      ],
      "metadata": {
        "id": "np8I8zcO73QC"
      }
    },
    {
      "cell_type": "code",
      "source": [
        "#external_stylesheets = ['https://codepen.io/chriddyp/pen/bWLwgP.css']\n",
        "\n",
        "app = JupyterDash(__name__, external_stylesheets=external_stylesheets)\n",
        "\n",
        "all_options = {\n",
        "    'America': ['New York City', 'San Francisco', 'Cincinnati'],\n",
        "    'Canada': [u'Montréal', 'Toronto', 'Ottawa']\n",
        "}\n",
        "app.layout = html.Div([\n",
        "    dcc.RadioItems(\n",
        "        list(all_options.keys()),\n",
        "        'America',\n",
        "        id='countries-radio',\n",
        "    ),\n",
        "\n",
        "    html.Hr(),\n",
        "\n",
        "    dcc.RadioItems(id='cities-radio'),\n",
        "\n",
        "    html.Hr(),\n",
        "\n",
        "    html.Div(id='display-selected-values')\n",
        "])"
      ],
      "metadata": {
        "id": "NeVopwrs7C0-"
      },
      "execution_count": null,
      "outputs": []
    },
    {
      "cell_type": "code",
      "source": [
        "@app.callback(\n",
        "    Output('cities-radio', 'options'),\n",
        "    Input('countries-radio', 'value'))\n",
        "def set_cities_options(selected_country):\n",
        "    return [{'label': i, 'value': i} for i in all_options[selected_country]]\n",
        "\n",
        "@app.callback(\n",
        "    Output('cities-radio', 'value'),\n",
        "    Input('cities-radio', 'options'))\n",
        "def set_cities_value(available_options):\n",
        "    return available_options[0]['value']\n",
        "\n",
        "@app.callback(\n",
        "    Output('display-selected-values', 'children'),\n",
        "    Input('countries-radio', 'value'),\n",
        "    Input('cities-radio', 'value'))\n",
        "def set_display_children(selected_country, selected_city):\n",
        "    return u'{} is a city in {}'.format(\n",
        "        selected_city, selected_country,\n",
        "    )"
      ],
      "metadata": {
        "id": "OFwk48136MPH"
      },
      "execution_count": null,
      "outputs": []
    },
    {
      "cell_type": "code",
      "source": [
        "if __name__ == '__main__':\n",
        "    app.run_server(debug=True)\n",
        "    #app.run_server(mode='inline')"
      ],
      "metadata": {
        "id": "8A00DGWC7HAM"
      },
      "execution_count": null,
      "outputs": []
    }
  ]
}