{
  "nbformat": 4,
  "nbformat_minor": 0,
  "metadata": {
    "colab": {
      "private_outputs": true,
      "provenance": [],
      "authorship_tag": "ABX9TyPr4KSRegysXbYzxmwHNWvY",
      "include_colab_link": true
    },
    "kernelspec": {
      "name": "python3",
      "display_name": "Python 3"
    },
    "language_info": {
      "name": "python"
    }
  },
  "cells": [
    {
      "cell_type": "markdown",
      "metadata": {
        "id": "view-in-github",
        "colab_type": "text"
      },
      "source": [
        "<a href=\"https://colab.research.google.com/github/cagBRT/Dash/blob/main/NLP_Dash_APP.ipynb\" target=\"_parent\"><img src=\"https://colab.research.google.com/assets/colab-badge.svg\" alt=\"Open In Colab\"/></a>"
      ]
    },
    {
      "cell_type": "markdown",
      "source": [
        "# Adding Callbacks to a Dash App"
      ],
      "metadata": {
        "id": "5AWz-blWzr4l"
      }
    },
    {
      "cell_type": "code",
      "source": [
        "!pip install dash"
      ],
      "metadata": {
        "id": "1jssVCpxyVQT"
      },
      "execution_count": null,
      "outputs": []
    },
    {
      "cell_type": "code",
      "source": [
        "import dash\n",
        "import plotly.express as px\n",
        "from dash.dependencies import Input, Output\n",
        "from dash import html\n",
        "from dash import dcc\n",
        "from dash import Dash, dcc, html, Input, Output\n",
        "import pandas as pd"
      ],
      "metadata": {
        "id": "WSoxxpcbyWgb"
      },
      "execution_count": null,
      "outputs": []
    },
    {
      "cell_type": "markdown",
      "source": [
        "\n",
        "\n",
        "---\n",
        "\n",
        "\n",
        "\n",
        "---\n",
        "\n"
      ],
      "metadata": {
        "id": "EKiQ9lqyyKFt"
      }
    },
    {
      "cell_type": "markdown",
      "source": [
        "# App with Multiple Outputs"
      ],
      "metadata": {
        "id": "iVX26Z5a5dHo"
      }
    },
    {
      "cell_type": "code",
      "source": [
        "#If you want to use an external style sheet this is where you would\n",
        "#put it\n",
        "external_stylesheets = ['https://codepen.io/chriddyp/pen/bWLwgP.css']\n",
        "\n",
        "app = Dash(__name__, external_stylesheets=external_stylesheets)\n",
        "\n",
        "app.layout = html.Div([\n",
        "    dcc.Input(\n",
        "        id='num-multi',\n",
        "        type='number',\n",
        "        value=5\n",
        "    ),\n",
        "    html.Table([\n",
        "        html.Tr([html.Td(['x', html.Sup(2)]), html.Td(id='square')]),\n",
        "        html.Tr([html.Td(['x', html.Sup(3)]), html.Td(id='cube')]),\n",
        "        html.Tr([html.Td([2, html.Sup('x')]), html.Td(id='twos')]),\n",
        "        html.Tr([html.Td([3, html.Sup('x')]), html.Td(id='threes')]),\n",
        "        html.Tr([html.Td(['x', html.Sup('x')]), html.Td(id='x^x')]),\n",
        "    ]),\n",
        "    html.Div(\n",
        "    [\n",
        "        html.Button(\"Download JSON\", id=\"btn_json\"),\n",
        "        dcc.Download(id=\"download-dataframe-json\"),\n",
        "    ]\n",
        "    )\n",
        "])"
      ],
      "metadata": {
        "id": "xNXjYH1k5jVU"
      },
      "execution_count": null,
      "outputs": []
    },
    {
      "cell_type": "code",
      "source": [
        "df = pd.DataFrame({\"a\": [1, 2, 3, 4], \"b\": [2, 1, 5, 6], \"c\": [\"x\", \"x\", \"y\", \"y\"]})\n",
        "\n",
        "@app.callback(\n",
        "    Output('square', 'children'),\n",
        "    Output('cube', 'children'),\n",
        "    Output('twos', 'children'),\n",
        "    Output('threes', 'children'),\n",
        "    Output('x^x', 'children'),\n",
        "    Input('num-multi', 'value'))\n",
        "def callback_a(x):\n",
        "    return x**2, x**3, 2**x, 3**x, x**x\n",
        "\n",
        "@app.callback(\n",
        "    Output(\"download-dataframe-json\", \"data\"),\n",
        "    Input(\"btn_json\", \"n_clicks\"),\n",
        "    prevent_initial_call=True,\n",
        ")\n",
        "def func(n_clicks):\n",
        "    return dcc.send_data_frame(df.to_json, \"mydf.json\")"
      ],
      "metadata": {
        "id": "iLa08iNn53-n"
      },
      "execution_count": null,
      "outputs": []
    },
    {
      "cell_type": "code",
      "source": [
        "if __name__ == '__main__':\n",
        "    #app.run_server(mode='inline', port=8050, debug=False)\n",
        "    app.run_server(jupyter_mode='external', port=8055, debug=False)"
      ],
      "metadata": {
        "id": "OJxDfEE0556j"
      },
      "execution_count": null,
      "outputs": []
    },
    {
      "cell_type": "code",
      "source": [
        "from dash import Dash, dcc, html, Input, Output\n",
        "import pandas as pd\n",
        "\n",
        "app = Dash(__name__)\n",
        "app.layout = html.Div(\n",
        "    [\n",
        "        html.Button(\"Download JSON\", id=\"btn_json\"),\n",
        "        dcc.Download(id=\"download-dataframe-json\"),\n",
        "    ]\n",
        ")\n",
        "\n",
        "df = pd.DataFrame({\"a\": [1, 2, 3, 4], \"b\": [2, 1, 5, 6], \"c\": [\"x\", \"x\", \"y\", \"y\"]})\n",
        "\n",
        "\n",
        "@app.callback(\n",
        "    Output(\"download-dataframe-json\", \"data\"),\n",
        "    Input(\"btn_json\", \"n_clicks\"),\n",
        "    prevent_initial_call=True,\n",
        ")\n",
        "def func(n_clicks):\n",
        "    return dcc.send_data_frame(df.to_json, \"mydf.json\")"
      ],
      "metadata": {
        "id": "WhHt2OO1OomG"
      },
      "execution_count": null,
      "outputs": []
    },
    {
      "cell_type": "code",
      "source": [
        "if __name__ == '__main__':\n",
        "    #app.run_server(mode='inline', port=8050, debug=False)\n",
        "    app.run_server(jupyter_mode='external', port=8055, debug=False)"
      ],
      "metadata": {
        "id": "RmMG7kgPNAuz"
      },
      "execution_count": null,
      "outputs": []
    },
    {
      "cell_type": "markdown",
      "source": [
        "# App with Chained Callbacks"
      ],
      "metadata": {
        "id": "OMRN75Lq6IUC"
      }
    },
    {
      "cell_type": "markdown",
      "source": [
        "With this example, the user is given two options New York or Canada. <br>\n",
        "Once the user selects a country, the cities for that country are displayed. <br>\n",
        "This is are chained callbacks"
      ],
      "metadata": {
        "id": "np8I8zcO73QC"
      }
    },
    {
      "cell_type": "code",
      "source": [
        "#external_stylesheets = ['https://codepen.io/chriddyp/pen/bWLwgP.css']\n",
        "\n",
        "app = dash.Dash(__name__, external_stylesheets=external_stylesheets)\n",
        "\n",
        "all_options = {\n",
        "    'America': ['New York City', 'San Francisco', 'Cincinnati'],\n",
        "    'Canada': [u'Montréal', 'Toronto', 'Ottawa']\n",
        "}\n",
        "app.layout = html.Div([\n",
        "    dcc.RadioItems(\n",
        "        list(all_options.keys()),\n",
        "        'America',\n",
        "        id='countries-radio',\n",
        "    ),\n",
        "\n",
        "    html.Hr(),\n",
        "\n",
        "    dcc.RadioItems(id='cities-radio'),\n",
        "\n",
        "    html.Hr(),\n",
        "\n",
        "    html.Div(id='display-selected-values')\n",
        "])"
      ],
      "metadata": {
        "id": "NeVopwrs7C0-"
      },
      "execution_count": null,
      "outputs": []
    },
    {
      "cell_type": "markdown",
      "source": [
        "The first callback updates the available options in the second dcc.RadioItems component based off of the selected value in the first dcc.RadioItems component.\n",
        "<br><br>\n",
        "The second callback sets an initial value when the options property changes: it sets it to the first value in that options array.\n",
        "<br><br>\n",
        "The final callback displays the selected value of each component. If you change the value of the countries dcc.RadioItems component, Dash will wait until the value of the cities component is updated before calling the final callback. This prevents your callbacks from being called with inconsistent state like with \"America\" and \"Montréal\"."
      ],
      "metadata": {
        "id": "3iwrmYKq8njf"
      }
    },
    {
      "cell_type": "code",
      "source": [
        "@app.callback(\n",
        "    Output('cities-radio', 'options'),\n",
        "    Input('countries-radio', 'value'))\n",
        "def set_cities_options(selected_country):\n",
        "    return [{'label': i, 'value': i} for i in all_options[selected_country]]\n",
        "\n",
        "@app.callback(\n",
        "    Output('cities-radio', 'value'),\n",
        "    Input('cities-radio', 'options'))\n",
        "def set_cities_value(available_options):\n",
        "    return available_options[0]['value']\n",
        "\n",
        "@app.callback(\n",
        "    Output('display-selected-values', 'children'),\n",
        "    Input('countries-radio', 'value'),\n",
        "    Input('cities-radio', 'value'))\n",
        "def set_display_children(selected_country, selected_city):\n",
        "    return u'{} is a city in {}'.format(\n",
        "        selected_city, selected_country,\n",
        "    )"
      ],
      "metadata": {
        "id": "OFwk48136MPH"
      },
      "execution_count": null,
      "outputs": []
    },
    {
      "cell_type": "code",
      "source": [
        "if __name__ == '__main__':\n",
        "    #app.run_server(mode='inline', port=8050, debug=False)\n",
        "    app.run_server(jupyter_mode='external', port=8055, debug=False)"
      ],
      "metadata": {
        "id": "8A00DGWC7HAM"
      },
      "execution_count": null,
      "outputs": []
    },
    {
      "cell_type": "markdown",
      "source": [
        "# Dash App with State"
      ],
      "metadata": {
        "id": "1uDKVKoq8w0h"
      }
    },
    {
      "cell_type": "markdown",
      "source": [
        "In this example, the output changes anytime the input value changes. <br>"
      ],
      "metadata": {
        "id": "lEOiJmUx9hw6"
      }
    },
    {
      "cell_type": "code",
      "source": [
        "external_stylesheets = [\"https://codepen.io/chriddyp/pen/bWLwgP.css\"]\n",
        "\n",
        "app = dash.Dash(__name__, external_stylesheets=external_stylesheets)\n",
        "\n",
        "app.layout = html.Div([\n",
        "    dcc.Input(id=\"input-1\", type=\"text\", value=\"Montréal\"),\n",
        "    dcc.Input(id=\"input-2\", type=\"text\", value=\"Canada\"),\n",
        "    html.Div(id=\"number-output\"),\n",
        "])"
      ],
      "metadata": {
        "id": "6_AW1yPX9o8W"
      },
      "execution_count": null,
      "outputs": []
    },
    {
      "cell_type": "code",
      "source": [
        "@app.callback(\n",
        "    Output(\"number-output\", \"children\"),\n",
        "    Input(\"input-1\", \"value\"),\n",
        "    Input(\"input-2\", \"value\"),\n",
        ")\n",
        "def update_output(input1, input2):\n",
        "    return u'Input 1 is \"{}\" and Input 2 is \"{}\"'.format(input1, input2)"
      ],
      "metadata": {
        "id": "CLxXNAL09Iju"
      },
      "execution_count": null,
      "outputs": []
    },
    {
      "cell_type": "code",
      "source": [
        "if __name__ == '__main__':\n",
        "    #app.run_server(mode='inline', port=8050, debug=False)\n",
        "    app.run_server(jupyter_mode='external', port=8055, debug=False)"
      ],
      "metadata": {
        "id": "Ez5kmncf9sN_"
      },
      "execution_count": null,
      "outputs": []
    },
    {
      "cell_type": "markdown",
      "source": [
        "If we include State, the output will not change until the Submit button is pressed."
      ],
      "metadata": {
        "id": "v-Iti-Fl-oef"
      }
    },
    {
      "cell_type": "code",
      "source": [
        "from dash.dependencies import State"
      ],
      "metadata": {
        "id": "MEWJiepN-t1I"
      },
      "execution_count": null,
      "outputs": []
    },
    {
      "cell_type": "markdown",
      "source": [
        "Note that the input ids are now input-1-state<br>\n",
        "And the output is now output-state"
      ],
      "metadata": {
        "id": "fYYRjq3p_kHj"
      }
    },
    {
      "cell_type": "code",
      "source": [
        "external_stylesheets = ['https://codepen.io/chriddyp/pen/bWLwgP.css']\n",
        "\n",
        "app = dash.Dash(__name__, external_stylesheets=external_stylesheets)\n",
        "\n",
        "app.layout = html.Div([\n",
        "    dcc.Input(id='input-1-state', type='text', value='Montréal'),\n",
        "    dcc.Input(id='input-2-state', type='text', value='Canada'),\n",
        "    html.Button(id='submit-button-state', n_clicks=0, children='Submit'),\n",
        "    html.Div(id='output-state')\n",
        "])"
      ],
      "metadata": {
        "id": "IQvwS5LO-t3T"
      },
      "execution_count": null,
      "outputs": []
    },
    {
      "cell_type": "code",
      "source": [
        "@app.callback(Output('output-state', 'children'),\n",
        "              Input('submit-button-state', 'n_clicks'),\n",
        "              State('input-1-state', 'value'),\n",
        "              State('input-2-state', 'value'))\n",
        "def update_output(n_clicks, input1, input2):\n",
        "    return u'''\n",
        "        The Button has been pressed {} times,\n",
        "        Input 1 is \"{}\",\n",
        "        and Input 2 is \"{}\"\n",
        "    '''.format(n_clicks, input1, input2)"
      ],
      "metadata": {
        "id": "Xi5dMAry_NmC"
      },
      "execution_count": null,
      "outputs": []
    },
    {
      "cell_type": "code",
      "source": [
        "if __name__ == '__main__':\n",
        "    #app.run_server(mode='inline', port=8050, debug=False)\n",
        "    app.run_server(jupyter_mode='external', port=8055, debug=False)"
      ],
      "metadata": {
        "id": "DVlvgS0N_P1R"
      },
      "execution_count": null,
      "outputs": []
    },
    {
      "cell_type": "markdown",
      "source": [
        "# Passing Components into Callbacks Instead of IDs"
      ],
      "metadata": {
        "id": "Z0DgrTWA_8oC"
      }
    },
    {
      "cell_type": "code",
      "source": [
        "app = dash.Dash(__name__, external_stylesheets=external_stylesheets)"
      ],
      "metadata": {
        "id": "kz2l5pnCAlhx"
      },
      "execution_count": null,
      "outputs": []
    },
    {
      "cell_type": "code",
      "source": [
        "app.layout = html.Div([\n",
        "    html.H6(\"Change the value in the text box to see callbacks in action!\"),\n",
        "    html.Div([\n",
        "        \"Input: \",\n",
        "        dcc.Input(id='my-input', value='initial value', type='text')\n",
        "    ]),\n",
        "    html.Br(),\n",
        "    html.Div(id='my-output'),\n",
        "])"
      ],
      "metadata": {
        "id": "wjQzZg4BAnTC"
      },
      "execution_count": null,
      "outputs": []
    },
    {
      "cell_type": "code",
      "source": [
        "@app.callback(\n",
        "    Output(component_id='my-output', component_property='children'),\n",
        "    Input(component_id='my-input', component_property='value')\n",
        ")\n",
        "def update_output_div(input_value):\n",
        "    return f'Output: {input_value}'\n"
      ],
      "metadata": {
        "id": "f0G6cKaS_8zN"
      },
      "execution_count": null,
      "outputs": []
    },
    {
      "cell_type": "code",
      "source": [
        "if __name__ == '__main__':\n",
        "    #app.run_server(mode='inline', port=8050, debug=False)\n",
        "    app.run_server(jupyter_mode='external', port=8055, debug=False)"
      ],
      "metadata": {
        "id": "tFCuA8dmAbW4"
      },
      "execution_count": null,
      "outputs": []
    },
    {
      "cell_type": "code",
      "source": [
        "app = dash.Dash(__name__)\n",
        "\n",
        "my_input = dcc.Input(value='initial value', type='text')\n",
        "my_output = html.Div()\n",
        "\n",
        "app.layout = html.Div([\n",
        "    html.H6(\"Change the value in the text box to see callbacks in action!\"),\n",
        "    html.Div([\n",
        "        \"Input: \",\n",
        "        my_input\n",
        "    ]),\n",
        "    html.Br(),\n",
        "    my_output\n",
        "])\n",
        "\n",
        "\n",
        "@app.callback(\n",
        "    Output(my_output, component_property='children'),\n",
        "    Input(my_input, component_property='value')\n",
        ")\n",
        "def update_output_div(input_value):\n",
        "    return f'Output: {input_value}'\n"
      ],
      "metadata": {
        "id": "TtjyIVGjA8IR"
      },
      "execution_count": null,
      "outputs": []
    },
    {
      "cell_type": "code",
      "source": [
        "if __name__ == '__main__':\n",
        "    #app.run_server(mode='inline', port=8050, debug=False)\n",
        "    app.run_server(jupyter_mode='external', port=8055, debug=False)"
      ],
      "metadata": {
        "id": "J5NH-r9ZNzIc"
      },
      "execution_count": null,
      "outputs": []
    },
    {
      "cell_type": "markdown",
      "source": [
        "\n",
        "\n",
        "---\n",
        "\n",
        "\n",
        "\n",
        "---\n",
        "\n"
      ],
      "metadata": {
        "id": "g5XnBuswZV3i"
      }
    },
    {
      "cell_type": "code",
      "source": [
        "import dash\n",
        "from dash import html\n",
        "from dash import dcc\n",
        "from dash.dependencies import Input, Output, State\n",
        "import uuid\n",
        "\n",
        "stylesheets = [\n",
        "    \"https://cdnjs.cloudflare.com/ajax/libs/bulma/0.7.2/css/bulma.min.css\", # Bulma\n",
        "]\n",
        "\n",
        "# create app\n",
        "app = dash.Dash(\n",
        "    __name__,\n",
        "    external_stylesheets=stylesheets\n",
        ")\n",
        "\n",
        "\n",
        "app.layout = html.Div(\n",
        "    className=\"section\",\n",
        "    children=[\n",
        "        dcc.Textarea(\n",
        "            id=\"text-area\",\n",
        "            className=\"textarea\",\n",
        "            placeholder='Enter a value...',\n",
        "            style={'width': '300px'}\n",
        "        ),\n",
        "        html.Button(\"Enter\", id=\"btn_txt\"),\n",
        "        dcc.Download(id=\"download-text\")\n",
        "    ]\n",
        ")\n",
        "\n",
        "@app.callback(\n",
        "    Output(\"download-text\", \"data\"),\n",
        "    Input(\"btn_txt\", \"n_clicks\"),\n",
        "    State(\"text-area\", \"value\"),\n",
        "    prevent_initial_call=True,\n",
        ")\n",
        "def create_download_file(n_clicks, text):\n",
        "    filename = \"file.txt\"\n",
        "    # Alternatively:\n",
        "    # filename = f\"{uuid.uuid1()}.txt\"\n",
        "\n",
        "    return dict(content=text, filename=filename)"
      ],
      "metadata": {
        "id": "UgZMh-g_Z5FK"
      },
      "execution_count": null,
      "outputs": []
    },
    {
      "cell_type": "code",
      "source": [
        "if __name__ == '__main__':\n",
        "    #app.run_server(mode='inline', port=8050, debug=False)\n",
        "    app.run_server(jupyter_mode='external', port=8055, debug=False)"
      ],
      "metadata": {
        "id": "3NRGdMndZ9MP"
      },
      "execution_count": null,
      "outputs": []
    }
  ]
}