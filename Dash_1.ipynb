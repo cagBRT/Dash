{
  "nbformat": 4,
  "nbformat_minor": 0,
  "metadata": {
    "colab": {
      "private_outputs": true,
      "provenance": [],
      "authorship_tag": "ABX9TyOHQBkG0AXd51AWXWr9ygfm",
      "include_colab_link": true
    },
    "kernelspec": {
      "name": "python3",
      "display_name": "Python 3"
    },
    "language_info": {
      "name": "python"
    }
  },
  "cells": [
    {
      "cell_type": "markdown",
      "metadata": {
        "id": "view-in-github",
        "colab_type": "text"
      },
      "source": [
        "<a href=\"https://colab.research.google.com/github/cagBRT/Dash/blob/main/Dash_1.ipynb\" target=\"_parent\"><img src=\"https://colab.research.google.com/assets/colab-badge.svg\" alt=\"Open In Colab\"/></a>"
      ]
    },
    {
      "cell_type": "markdown",
      "source": [
        "# Adding interactivity to a Dash App"
      ],
      "metadata": {
        "id": "5AWz-blWzr4l"
      }
    },
    {
      "cell_type": "markdown",
      "source": [
        "In the Plotly class we learned to create figures using Plotly. <br>\n",
        "\n",
        "In the \"Plotly 4 Dash\" notebook we learned to add Plotly figures to Dash Apps<br>\n",
        "\n",
        "In this notebook we will add interactivity to Dash Apps"
      ],
      "metadata": {
        "id": "spLYc_Ghz7Oy"
      }
    },
    {
      "cell_type": "code",
      "source": [
        "!pip install dash"
      ],
      "metadata": {
        "id": "1jssVCpxyVQT"
      },
      "execution_count": null,
      "outputs": []
    },
    {
      "cell_type": "code",
      "source": [
        "import plotly.express as px\n",
        "from dash import Dash\n",
        "from dash.dependencies import Input, Output\n",
        "from dash import html\n",
        "from dash import dcc"
      ],
      "metadata": {
        "id": "WSoxxpcbyWgb"
      },
      "execution_count": null,
      "outputs": []
    },
    {
      "cell_type": "code",
      "source": [
        "# Load Data\n",
        "df = px.data.tips()"
      ],
      "metadata": {
        "id": "BdBxzxMYyZ_5"
      },
      "execution_count": null,
      "outputs": []
    },
    {
      "cell_type": "markdown",
      "source": [
        "We use html to create the layout for the app"
      ],
      "metadata": {
        "id": "oCpXqxKk0SH_"
      }
    },
    {
      "cell_type": "markdown",
      "source": [
        "Because you access Dash from your web browser, this is the only method of communication that is allowed between Dash and the internet. Any time you use Dash, you will see that the URL begins with https. This means that all information is encrypted, so that information like your login details are kept safe."
      ],
      "metadata": {
        "id": "qQS3111D0k6p"
      }
    },
    {
      "cell_type": "code",
      "source": [
        "# Build App\n",
        "app = Dash(__name__)\n",
        "app.layout = html.Div([\n",
        "    html.H1(\"JupyterDash Demo\"),\n",
        "    dcc.Graph(id='graph'),\n",
        "    html.Label([\n",
        "        \"colorscale\",\n",
        "        dcc.Dropdown(\n",
        "            id='colorscale-dropdown', clearable=False,\n",
        "            value='plasma', options=[\n",
        "                {'label': c, 'value': c}\n",
        "                for c in px.colors.named_colorscales()\n",
        "            ])\n",
        "    ]),\n",
        "])"
      ],
      "metadata": {
        "id": "5wUNXu_fye1R"
      },
      "execution_count": null,
      "outputs": []
    },
    {
      "cell_type": "markdown",
      "source": [
        "Components in Dash usually update through user interaction like selecting a dropdown, dragging a slider, or hovering over points.\n",
        "\n"
      ],
      "metadata": {
        "id": "EyNl1xHw1wzq"
      }
    },
    {
      "cell_type": "markdown",
      "source": [
        "**Callbacks in Dash:** <br>\n",
        "Making it interactive\n",
        "Now, let’s have a look at how we can create the callback that will connect the dropdown and the stock prices line chart.\n",
        "\n",
        "A callback is initialised using @app.callback(), which is followed by a function definition. Within this function, we define what happens on changing the value of the dropdown."
      ],
      "metadata": {
        "id": "Q9OaQQF73aRO"
      }
    },
    {
      "cell_type": "code",
      "execution_count": null,
      "metadata": {
        "id": "2xfr_pLQx2Jl"
      },
      "outputs": [],
      "source": [
        "# Define callback to update graph\n",
        "@app.callback(\n",
        "    Output('graph', 'figure'),\n",
        "    [Input(\"colorscale-dropdown\", \"value\")]\n",
        ")\n",
        "def update_figure(colorscale):\n",
        "    return px.scatter(\n",
        "        df, x=\"total_bill\", y=\"tip\", color=\"size\",\n",
        "        color_continuous_scale=colorscale,\n",
        "        render_mode=\"webgl\", title=\"Tips\"\n",
        "    )"
      ]
    },
    {
      "cell_type": "code",
      "source": [
        "# Run app and display result inline in the notebook\n",
        "app.run_server(mode='inline')"
      ],
      "metadata": {
        "id": "1FOVRcvE2Qf6"
      },
      "execution_count": null,
      "outputs": []
    }
  ]
}