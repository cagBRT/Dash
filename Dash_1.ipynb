{
  "nbformat": 4,
  "nbformat_minor": 0,
  "metadata": {
    "colab": {
      "private_outputs": true,
      "provenance": [],
      "authorship_tag": "ABX9TyNbvCuJeXizMgzLN24obcp1",
      "include_colab_link": true
    },
    "kernelspec": {
      "name": "python3",
      "display_name": "Python 3"
    },
    "language_info": {
      "name": "python"
    }
  },
  "cells": [
    {
      "cell_type": "markdown",
      "metadata": {
        "id": "view-in-github",
        "colab_type": "text"
      },
      "source": [
        "<a href=\"https://colab.research.google.com/github/cagBRT/Dash/blob/main/Dash_1.ipynb\" target=\"_parent\"><img src=\"https://colab.research.google.com/assets/colab-badge.svg\" alt=\"Open In Colab\"/></a>"
      ]
    },
    {
      "cell_type": "code",
      "source": [
        "!pip install jupyter-dash"
      ],
      "metadata": {
        "id": "1jssVCpxyVQT"
      },
      "execution_count": null,
      "outputs": []
    },
    {
      "cell_type": "code",
      "source": [
        "import plotly.express as px\n",
        "from jupyter_dash import JupyterDash\n",
        "from dash.dependencies import Input, Output\n",
        "from dash import html\n",
        "from dash import dcc"
      ],
      "metadata": {
        "id": "WSoxxpcbyWgb"
      },
      "execution_count": null,
      "outputs": []
    },
    {
      "cell_type": "code",
      "source": [
        "# Load Data\n",
        "df = px.data.tips()"
      ],
      "metadata": {
        "id": "BdBxzxMYyZ_5"
      },
      "execution_count": null,
      "outputs": []
    },
    {
      "cell_type": "code",
      "source": [
        "# Build App\n",
        "app = JupyterDash(__name__)\n",
        "app.layout = html.Div([\n",
        "    html.H1(\"JupyterDash Demo\"),\n",
        "    dcc.Graph(id='graph'),\n",
        "    html.Label([\n",
        "        \"colorscale\",\n",
        "        dcc.Dropdown(\n",
        "            id='colorscale-dropdown', clearable=False,\n",
        "            value='plasma', options=[\n",
        "                {'label': c, 'value': c}\n",
        "                for c in px.colors.named_colorscales()\n",
        "            ])\n",
        "    ]),\n",
        "])"
      ],
      "metadata": {
        "id": "5wUNXu_fye1R"
      },
      "execution_count": null,
      "outputs": []
    },
    {
      "cell_type": "markdown",
      "source": [
        "Components in Dash usually update through user interaction like selecting a dropdown, dragging a slider, or hovering over points.\n",
        "\n"
      ],
      "metadata": {
        "id": "EyNl1xHw1wzq"
      }
    },
    {
      "cell_type": "markdown",
      "source": [
        "**Callbacks in Dash:** <br>\n",
        "Making it interactive\n",
        "Now, let’s have a look at how we can create the callback that will connect the dropdown and the stock prices line chart.\n",
        "\n",
        "A callback is initialised using @app.callback(), which is followed by a function definition. Within this function, we define what happens on changing the value of the dropdown."
      ],
      "metadata": {
        "id": "Q9OaQQF73aRO"
      }
    },
    {
      "cell_type": "code",
      "execution_count": null,
      "metadata": {
        "id": "2xfr_pLQx2Jl"
      },
      "outputs": [],
      "source": [
        "# Define callback to update graph\n",
        "@app.callback(\n",
        "    Output('graph', 'figure'),\n",
        "    [Input(\"colorscale-dropdown\", \"value\")]\n",
        ")\n",
        "def update_figure(colorscale):\n",
        "    return px.scatter(\n",
        "        df, x=\"total_bill\", y=\"tip\", color=\"size\",\n",
        "        color_continuous_scale=colorscale,\n",
        "        render_mode=\"webgl\", title=\"Tips\"\n",
        "    )"
      ]
    },
    {
      "cell_type": "code",
      "source": [
        "# Run app and display result inline in the notebook\n",
        "app.run_server(mode='inline')\n",
        "#app.run_server(mode='external')"
      ],
      "metadata": {
        "id": "1FOVRcvE2Qf6"
      },
      "execution_count": null,
      "outputs": []
    }
  ]
}