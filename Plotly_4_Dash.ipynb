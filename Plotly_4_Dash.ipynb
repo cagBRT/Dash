{
  "nbformat": 4,
  "nbformat_minor": 0,
  "metadata": {
    "colab": {
      "private_outputs": true,
      "provenance": [],
      "authorship_tag": "ABX9TyN+OXynOfZgPMpME6TNor1S",
      "include_colab_link": true
    },
    "kernelspec": {
      "name": "python3",
      "display_name": "Python 3"
    },
    "language_info": {
      "name": "python"
    }
  },
  "cells": [
    {
      "cell_type": "markdown",
      "metadata": {
        "id": "view-in-github",
        "colab_type": "text"
      },
      "source": [
        "<a href=\"https://colab.research.google.com/github/cagBRT/Dash/blob/main/Plotly_4_Dash.ipynb\" target=\"_parent\"><img src=\"https://colab.research.google.com/assets/colab-badge.svg\" alt=\"Open In Colab\"/></a>"
      ]
    },
    {
      "cell_type": "markdown",
      "source": [
        "# Using Plotly with Dash"
      ],
      "metadata": {
        "id": "f55jokgwvmsy"
      }
    },
    {
      "cell_type": "markdown",
      "source": [
        "Dash is an open-source framework for building analytical applications, with no Javascript required, and it is tightly integrated with the Plotly graphing library."
      ],
      "metadata": {
        "id": "hI-UJjKNx3nI"
      }
    },
    {
      "cell_type": "markdown",
      "source": [
        "This notebook shows how to setup Dash in a Google CoLab notebook and insert a Plotly figure into it. <br>\n",
        "\n",
        "Everywhere in this page that you see fig.show(), you can display the same figure in a Dash application by passing it to the figure argument of the Graph component from the built-in dash_core_components package like this:"
      ],
      "metadata": {
        "id": "SwKijgIbvqcX"
      }
    },
    {
      "cell_type": "code",
      "source": [
        "!pip install jupyter-dash"
      ],
      "metadata": {
        "id": "_ytlXVabuqfO"
      },
      "execution_count": null,
      "outputs": []
    },
    {
      "cell_type": "code",
      "source": [
        "!pip install plotly"
      ],
      "metadata": {
        "id": "8muPFghdwOdj"
      },
      "execution_count": null,
      "outputs": []
    },
    {
      "cell_type": "code",
      "source": [
        "from jupyter_dash import JupyterDash\n",
        "from dash.dependencies import Input, Output\n",
        "from dash import html\n",
        "from dash import dcc\n",
        "import plotly.graph_objects as go # or plotly.express as px"
      ],
      "metadata": {
        "id": "O9PvgH3fu1PD"
      },
      "execution_count": null,
      "outputs": []
    },
    {
      "cell_type": "markdown",
      "source": [
        "# A Simple Figure in Dash"
      ],
      "metadata": {
        "id": "LyfJ53s7w5ai"
      }
    },
    {
      "cell_type": "code",
      "execution_count": null,
      "metadata": {
        "id": "hG7KG2OkugrS"
      },
      "outputs": [],
      "source": [
        "#Create the figure\n",
        "fig = go.Figure() # or any Plotly Express function e.g. px.bar(...)\n",
        "# fig.add_trace( ... )\n",
        "# fig.update_layout( ... )"
      ]
    },
    {
      "cell_type": "code",
      "source": [
        "#Create the app and put the figure in it\n",
        "app = JupyterDash(__name__)\n",
        "app.layout = html.Div([\n",
        "    dcc.Graph(figure=fig)\n",
        "])"
      ],
      "metadata": {
        "id": "5kD3XmSLvKJO"
      },
      "execution_count": null,
      "outputs": []
    },
    {
      "cell_type": "code",
      "source": [
        "#app.run_server(debug=True, use_reloader=False)  # Turn off reloader if inside Jupyter\n",
        "\n",
        "# Run app and display result inline in the notebook\n",
        "app.run_server(mode='inline')\n",
        "\n",
        "#Uncomment to run externally from the notebook\n",
        "#app.run_server(mode='external')"
      ],
      "metadata": {
        "id": "6AIwXLnVvNbI"
      },
      "execution_count": null,
      "outputs": []
    },
    {
      "cell_type": "markdown",
      "source": [
        "# A more complex figure in Dash"
      ],
      "metadata": {
        "id": "t1RnZIJzxCve"
      }
    },
    {
      "cell_type": "code",
      "source": [
        "import plotly.figure_factory as ff\n",
        "import plotly.express as px"
      ],
      "metadata": {
        "id": "mhiO6RkKwA2n"
      },
      "execution_count": null,
      "outputs": []
    },
    {
      "cell_type": "code",
      "source": [
        "#Create the figure\n",
        "data = [\n",
        "{\"label\": \"revenue\",\n",
        "\"sublabel\": \"us$, in thousands\",\n",
        "\"range\": [150, 225, 300],\n",
        "\"performance\": [220,270],\n",
        "\"point\": [250]},\n",
        "\n",
        "{\"label\": \"Profit\",\n",
        "\"sublabel\": \"%\",\n",
        "\"range\": [20, 25, 30],\n",
        "\"performance\": [21, 23],\n",
        "\"point\": [26]},\n",
        "\n",
        "{\"label\": \"Order Size\",\n",
        "\"sublabel\":\"US$, average\",\n",
        "\"range\": [350, 500, 600],\n",
        "\"performance\": [100,320],\n",
        "\"point\": [550]},\n",
        "\n",
        "{\"label\": \"New Customers\",\n",
        "\"sublabel\": \"count\",\n",
        "\"range\": [1400, 2000, 2500],\n",
        "\"performance\": [1000, 1650],\n",
        "\"point\": [2100]},\n",
        "\n",
        "{\"label\": \"Satisfaction\",\n",
        "\"sublabel\": \"out of 5\",\n",
        "\"range\": [3.5, 4.25, 5],\n",
        "\"performance\": [3.2, 4.7],\n",
        "\"point\": [4.4]}\n",
        "]\n",
        "\n",
        "fig = ff.create_bullet(\n",
        "\tdata, titles='label',\n",
        "\tsubtitles='sublabel',\n",
        "\tmarkers='point',\n",
        "\tmeasures='performance',\n",
        "\tranges='range',\n",
        "\torientation='h',\n",
        "\ttitle='A simple bullet chart'\n",
        ")\n",
        "\n",
        "#fig.show()"
      ],
      "metadata": {
        "id": "ULQ4t5VFnQbP"
      },
      "execution_count": null,
      "outputs": []
    },
    {
      "cell_type": "code",
      "source": [
        "#Create the app and add the figure\n",
        "app = JupyterDash(__name__)\n",
        "app.layout = html.Div([\n",
        "    dcc.Graph(figure=fig)\n",
        "])"
      ],
      "metadata": {
        "id": "tdo3F7IGwdgZ"
      },
      "execution_count": null,
      "outputs": []
    },
    {
      "cell_type": "code",
      "source": [
        "#app.run_server(mode='external')\n",
        "app.run_server(mode=\"inline\")"
      ],
      "metadata": {
        "id": "EIzHFEbHwM8Y"
      },
      "execution_count": null,
      "outputs": []
    },
    {
      "cell_type": "markdown",
      "source": [
        "**Assignment:**<br>\n",
        "Select one of the figure examples from the Plotly examples and display it with Dash"
      ],
      "metadata": {
        "id": "AjrycHAuxWaw"
      }
    },
    {
      "cell_type": "markdown",
      "source": [
        "https://colab.research.google.com/github/cagBRT/Intro-to-Plotly/blob/main/Plotly_3.ipynb#scrollTo=ULQ4t5VFnQbP\n",
        "\n",
        "https://colab.research.google.com/github/cagBRT/Intro-to-Plotly/blob/main/Plotly_2.ipynb\n",
        "\n",
        "https://colab.research.google.com/github/cagBRT/Intro-to-Plotly/blob/main/Plotly_1.ipynb\n"
      ],
      "metadata": {
        "id": "1IhkfkYyxhx5"
      }
    },
    {
      "cell_type": "code",
      "source": [],
      "metadata": {
        "id": "8sdAfrjSxgWe"
      },
      "execution_count": null,
      "outputs": []
    }
  ]
}