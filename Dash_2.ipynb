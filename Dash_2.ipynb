{
  "nbformat": 4,
  "nbformat_minor": 0,
  "metadata": {
    "colab": {
      "private_outputs": true,
      "provenance": [],
      "authorship_tag": "ABX9TyMU1JBlaZgOE4Hw5QXUgcGu",
      "include_colab_link": true
    },
    "kernelspec": {
      "name": "python3",
      "display_name": "Python 3"
    },
    "language_info": {
      "name": "python"
    }
  },
  "cells": [
    {
      "cell_type": "markdown",
      "metadata": {
        "id": "view-in-github",
        "colab_type": "text"
      },
      "source": [
        "<a href=\"https://colab.research.google.com/github/cagBRT/Dash/blob/main/Dash_2.ipynb\" target=\"_parent\"><img src=\"https://colab.research.google.com/assets/colab-badge.svg\" alt=\"Open In Colab\"/></a>"
      ]
    },
    {
      "cell_type": "code",
      "source": [
        "!pip install dash"
      ],
      "metadata": {
        "id": "1jssVCpxyVQT"
      },
      "execution_count": null,
      "outputs": []
    },
    {
      "cell_type": "code",
      "source": [
        "import plotly.express as px\n",
        "import dash\n",
        "import numpy as np\n",
        "from dash.dependencies import Input, Output\n",
        "from dash import html\n",
        "from dash import dcc"
      ],
      "metadata": {
        "id": "WSoxxpcbyWgb"
      },
      "execution_count": null,
      "outputs": []
    },
    {
      "cell_type": "code",
      "source": [
        "# Load Data\n",
        "df = px.data.tips()"
      ],
      "metadata": {
        "id": "BdBxzxMYyZ_5"
      },
      "execution_count": null,
      "outputs": []
    },
    {
      "cell_type": "code",
      "source": [
        "# Build App\n",
        "app = dash.Dash(__name__)\n",
        "app.layout = html.Div(children=[\n",
        "    html.H1(children='Hello Dash'),\n",
        "\n",
        "    html.Div(children='''\n",
        "        Dash: A web application framework for Python.\n",
        "    '''),\n",
        "\n",
        "    dcc.Graph(\n",
        "        id='example-graph',\n",
        "        figure={\n",
        "            'data': [\n",
        "                {'x': [1, 2, 3], 'y': [4, 1, 2], 'type': 'bar', 'name': 'SF'},\n",
        "                {'x': [1, 2, 3], 'y': [2, 4, 5], 'type': 'bar', 'name': u'Montréal'},\n",
        "            ],\n",
        "            'layout': {\n",
        "                'title': 'Dash Data Visualization'\n",
        "            }\n",
        "        }\n",
        "    )\n",
        "])\n"
      ],
      "metadata": {
        "id": "5wUNXu_fye1R"
      },
      "execution_count": null,
      "outputs": []
    },
    {
      "cell_type": "markdown",
      "source": [
        "Components in Dash usually update through user interaction like selecting a dropdown, dragging a slider, or hovering over points.\n",
        "\n"
      ],
      "metadata": {
        "id": "EyNl1xHw1wzq"
      }
    },
    {
      "cell_type": "markdown",
      "source": [
        "**Callbacks in Dash:** <br>\n",
        "Making it interactive\n",
        "Now, let’s have a look at how we can create the callback that will connect the dropdown and the stock prices line chart.\n",
        "\n",
        "A callback is initialised using @app.callback(), which is followed by a function definition. Within this function, we define what happens on changing the value of the dropdown."
      ],
      "metadata": {
        "id": "Q9OaQQF73aRO"
      }
    },
    {
      "cell_type": "code",
      "execution_count": null,
      "metadata": {
        "id": "2xfr_pLQx2Jl"
      },
      "outputs": [],
      "source": [
        "# Define callback to update graph\n",
        "@app.callback(\n",
        "    Output('graph', 'figure'),\n",
        "    [Input(\"colorscale-dropdown\", \"value\")]\n",
        ")\n",
        "def update_figure(colorscale):\n",
        "    return px.scatter(\n",
        "        df, x=\"total_bill\", y=\"tip\", color=\"size\",\n",
        "        color_continuous_scale=colorscale,\n",
        "        render_mode=\"webgl\", title=\"Tips\"\n",
        "    )"
      ]
    },
    {
      "cell_type": "code",
      "source": [
        "# Run app and display result inline in the notebook\n",
        "if __name__ == '__main__':\n",
        "    #app.run_server(mode='inline', port=8050, debug=False)\n",
        "    app.run_server(jupyter_mode='external', port=8055, debug=False)"
      ],
      "metadata": {
        "id": "1FOVRcvE2Qf6"
      },
      "execution_count": null,
      "outputs": []
    }
  ]
}