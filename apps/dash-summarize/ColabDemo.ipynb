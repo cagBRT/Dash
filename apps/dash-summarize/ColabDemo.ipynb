{
  "nbformat": 4,
  "nbformat_minor": 0,
  "metadata": {
    "colab": {
      "name": "Dash Summarize Colab Demo.ipynb",
      "provenance": []
    },
    "kernelspec": {
      "name": "python3",
      "display_name": "Python 3"
    },
    "accelerator": "GPU"
  },
  "cells": [
    {
      "cell_type": "markdown",
      "metadata": {
        "id": "8n6CYTIja4hq"
      },
      "source": [
        "To start this Jupyter Dash app, please run all the cells below. Then, click on the **temporary** URL at the end of the last cell to open the app."
      ]
    },
    {
      "cell_type": "code",
      "metadata": {
        "id": "XSlKBZjYotV1",
        "colab": {
          "base_uri": "https://localhost:8080/"
        },
        "outputId": "c0697881-a5a0-4e0b-cf98-c71f74fb7442"
      },
      "source": [
        "#!pip install -q jupyter-dash==0.3.0rc1 dash-bootstrap-components transformers"
      ],
      "execution_count": 1,
      "outputs": [
        {
          "output_type": "stream",
          "name": "stdout",
          "text": [
            "\u001b[2K     \u001b[90m━━━━━━━━━━━━━━━━━━━━━━━━━━━━━━━━━━━━━━━━\u001b[0m \u001b[32m45.3/45.3 KB\u001b[0m \u001b[31m1.7 MB/s\u001b[0m eta \u001b[36m0:00:00\u001b[0m\n",
            "\u001b[2K     \u001b[90m━━━━━━━━━━━━━━━━━━━━━━━━━━━━━━━━━━━━━━\u001b[0m \u001b[32m219.7/219.7 KB\u001b[0m \u001b[31m12.5 MB/s\u001b[0m eta \u001b[36m0:00:00\u001b[0m\n",
            "\u001b[2K     \u001b[90m━━━━━━━━━━━━━━━━━━━━━━━━━━━━━━━━━━━━━━━━\u001b[0m \u001b[32m6.3/6.3 MB\u001b[0m \u001b[31m36.9 MB/s\u001b[0m eta \u001b[36m0:00:00\u001b[0m\n",
            "\u001b[2K     \u001b[90m━━━━━━━━━━━━━━━━━━━━━━━━━━━━━━━━━━━━━━━━\u001b[0m \u001b[32m9.9/9.9 MB\u001b[0m \u001b[31m62.7 MB/s\u001b[0m eta \u001b[36m0:00:00\u001b[0m\n",
            "\u001b[2K     \u001b[90m━━━━━━━━━━━━━━━━━━━━━━━━━━━━━━━━━━━━━━━\u001b[0m \u001b[32m190.3/190.3 KB\u001b[0m \u001b[31m8.1 MB/s\u001b[0m eta \u001b[36m0:00:00\u001b[0m\n",
            "\u001b[2K     \u001b[90m━━━━━━━━━━━━━━━━━━━━━━━━━━━━━━━━━━━━━━━━\u001b[0m \u001b[32m7.6/7.6 MB\u001b[0m \u001b[31m27.5 MB/s\u001b[0m eta \u001b[36m0:00:00\u001b[0m\n",
            "\u001b[2K     \u001b[90m━━━━━━━━━━━━━━━━━━━━━━━━━━━━━━━━━━━━━━━━\u001b[0m \u001b[32m1.6/1.6 MB\u001b[0m \u001b[31m34.0 MB/s\u001b[0m eta \u001b[36m0:00:00\u001b[0m\n",
            "\u001b[?25h"
          ]
        }
      ]
    },
    {
      "cell_type": "code",
      "source": [
        "!pip install \"dash-bootstrap-components\""
      ],
      "metadata": {
        "id": "_xVf_7A9zCMs",
        "outputId": "a8030bfa-edb6-4d67-fdb1-d0b28dfdc6dd",
        "colab": {
          "base_uri": "https://localhost:8080/"
        }
      },
      "execution_count": 24,
      "outputs": [
        {
          "output_type": "stream",
          "name": "stdout",
          "text": [
            "Looking in indexes: https://pypi.org/simple, https://us-python.pkg.dev/colab-wheels/public/simple/\n",
            "Requirement already satisfied: dash-bootstrap-components in /usr/local/lib/python3.8/dist-packages (0.13.1)\n",
            "Requirement already satisfied: dash>=1.9.0 in /usr/local/lib/python3.8/dist-packages (from dash-bootstrap-components) (1.19.0)\n",
            "Requirement already satisfied: flask-compress in /usr/local/lib/python3.8/dist-packages (from dash>=1.9.0->dash-bootstrap-components) (1.13)\n",
            "Requirement already satisfied: Flask>=1.0.4 in /usr/local/lib/python3.8/dist-packages (from dash>=1.9.0->dash-bootstrap-components) (1.1.4)\n",
            "Requirement already satisfied: dash-core-components==1.15.0 in /usr/local/lib/python3.8/dist-packages (from dash>=1.9.0->dash-bootstrap-components) (1.15.0)\n",
            "Requirement already satisfied: dash-html-components==1.1.2 in /usr/local/lib/python3.8/dist-packages (from dash>=1.9.0->dash-bootstrap-components) (1.1.2)\n",
            "Requirement already satisfied: plotly in /usr/local/lib/python3.8/dist-packages (from dash>=1.9.0->dash-bootstrap-components) (5.5.0)\n",
            "Requirement already satisfied: dash-table==4.11.2 in /usr/local/lib/python3.8/dist-packages (from dash>=1.9.0->dash-bootstrap-components) (4.11.2)\n",
            "Requirement already satisfied: future in /usr/local/lib/python3.8/dist-packages (from dash>=1.9.0->dash-bootstrap-components) (0.16.0)\n",
            "Requirement already satisfied: dash-renderer==1.9.0 in /usr/local/lib/python3.8/dist-packages (from dash>=1.9.0->dash-bootstrap-components) (1.9.0)\n",
            "Requirement already satisfied: Werkzeug<2.0,>=0.15 in /usr/local/lib/python3.8/dist-packages (from Flask>=1.0.4->dash>=1.9.0->dash-bootstrap-components) (1.0.1)\n",
            "Requirement already satisfied: Jinja2<3.0,>=2.10.1 in /usr/local/lib/python3.8/dist-packages (from Flask>=1.0.4->dash>=1.9.0->dash-bootstrap-components) (2.11.3)\n",
            "Requirement already satisfied: click<8.0,>=5.1 in /usr/local/lib/python3.8/dist-packages (from Flask>=1.0.4->dash>=1.9.0->dash-bootstrap-components) (7.1.2)\n",
            "Requirement already satisfied: itsdangerous<2.0,>=0.24 in /usr/local/lib/python3.8/dist-packages (from Flask>=1.0.4->dash>=1.9.0->dash-bootstrap-components) (1.1.0)\n",
            "Requirement already satisfied: brotli in /usr/local/lib/python3.8/dist-packages (from flask-compress->dash>=1.9.0->dash-bootstrap-components) (1.0.9)\n",
            "Requirement already satisfied: tenacity>=6.2.0 in /usr/local/lib/python3.8/dist-packages (from plotly->dash>=1.9.0->dash-bootstrap-components) (8.1.0)\n",
            "Requirement already satisfied: six in /usr/local/lib/python3.8/dist-packages (from plotly->dash>=1.9.0->dash-bootstrap-components) (1.15.0)\n",
            "Requirement already satisfied: MarkupSafe>=0.23 in /usr/local/lib/python3.8/dist-packages (from Jinja2<3.0,>=2.10.1->Flask>=1.0.4->dash>=1.9.0->dash-bootstrap-components) (2.0.1)\n"
          ]
        }
      ]
    },
    {
      "cell_type": "code",
      "metadata": {
        "id": "XTZjvYnkn45v"
      },
      "source": [
        "import time\n",
        "\n",
        "import dash\n",
        "from dash import html\n",
        "from dash import dcc\n",
        "import dash_bootstrap_components as dbc\n",
        "from dash.dependencies import Input, Output, State\n",
        "from jupyter_dash import JupyterDash\n",
        "from transformers import BartTokenizer, BartForConditionalGeneration\n",
        "import torch"
      ],
      "execution_count": 9,
      "outputs": []
    },
    {
      "cell_type": "code",
      "metadata": {
        "id": "aN5EHFXSoDTv",
        "colab": {
          "base_uri": "https://localhost:8080/"
        },
        "outputId": "bb9da012-081b-41ca-f61a-90c325ccd011"
      },
      "source": [
        "device = \"cuda\" if torch.cuda.is_available() else \"cpu\"\n",
        "print(f\"Device: {device}\")\n",
        "\n",
        "# Load Model\n",
        "pretrained = \"sshleifer/distilbart-xsum-12-6\"\n",
        "model = BartForConditionalGeneration.from_pretrained(pretrained)\n",
        "tokenizer = BartTokenizer.from_pretrained(pretrained)\n",
        "\n",
        "# Switch to cuda, eval mode, and FP16 for faster inference\n",
        "if device == \"cuda\":\n",
        "    model = model.half()\n",
        "model.to(device)\n",
        "model.eval();"
      ],
      "execution_count": 10,
      "outputs": [
        {
          "output_type": "stream",
          "name": "stdout",
          "text": [
            "Device: cuda\n"
          ]
        }
      ]
    },
    {
      "cell_type": "code",
      "metadata": {
        "id": "Z2EdDQbqpgy1"
      },
      "source": [
        "# Define app\n",
        "#app = JupyterDash(__name__, external_stylesheets=[dbc.themes.BOOTSTRAP])\n",
        "app = dash.Dash(external_stylesheets=[dbc.themes.BOOTSTRAP])\n",
        "\n",
        "server = app.server\n",
        "\n",
        "controls = dbc.Card(\n",
        "    [\n",
        "        (\n",
        "            [\n",
        "                dbc.Label(\"Output Length (# Tokens)\"),\n",
        "                dcc.Slider(\n",
        "                    id=\"max-length\",\n",
        "                    min=10,\n",
        "                    max=50,\n",
        "                    value=30,\n",
        "                    marks={i: str(i) for i in range(10, 51, 10)},\n",
        "                ),\n",
        "            ]\n",
        "        ),\n",
        "        (\n",
        "            [\n",
        "                dbc.Label(\"Beam Size\"),\n",
        "                dcc.Slider(\n",
        "                    id=\"num-beams\",\n",
        "                    min=2,\n",
        "                    max=6,\n",
        "                    value=4,\n",
        "                    marks={i: str(i) for i in [2, 4, 6]},\n",
        "                ),\n",
        "            ]\n",
        "        ),\n",
        "        (\n",
        "            [\n",
        "                dbc.Spinner(\n",
        "                    [\n",
        "                        dbc.Button(\"Summarize\", id=\"button-run\"),\n",
        "                        html.Div(id=\"time-taken\"),\n",
        "                    ]\n",
        "                )\n",
        "            ]\n",
        "        ),\n",
        "    ],\n",
        "    body=True,\n",
        "    style={\"height\": \"275px\"},\n",
        ")\n",
        "\n",
        "\n",
        "# Define Layout\n",
        "app.layout = dbc.Container(\n",
        "    fluid=True,\n",
        "    children=[\n",
        "        html.H1(\"Dash Automatic Summarization (with DistilBART)\"),\n",
        "        html.Hr(),\n",
        "        dbc.Row(\n",
        "            [\n",
        "                dbc.Col(\n",
        "                    width=5,\n",
        "                    children=[\n",
        "                        controls,\n",
        "                        dbc.Card(\n",
        "                            body=True,\n",
        "                            children=[\n",
        "                                (\n",
        "                                    [\n",
        "                                        dbc.Label(\"Summarized Content\"),\n",
        "                                        dcc.Textarea(\n",
        "                                            id=\"summarized-content\",\n",
        "                                            style={\n",
        "                                                \"width\": \"100%\",\n",
        "                                                \"height\": \"calc(75vh - 275px)\",\n",
        "                                            },\n",
        "                                        ),\n",
        "                                    ]\n",
        "                                )\n",
        "                            ],\n",
        "                        ),\n",
        "                    ],\n",
        "                ),\n",
        "                dbc.Col(\n",
        "                    width=7,\n",
        "                    children=[\n",
        "                        dbc.Card(\n",
        "                            body=True,\n",
        "                            children=[\n",
        "                                (\n",
        "                                    [\n",
        "                                        dbc.Label(\"Original Text (Paste here)\"),\n",
        "                                        dcc.Textarea(\n",
        "                                            id=\"original-text\",\n",
        "                                            style={\"width\": \"100%\", \"height\": \"75vh\"},\n",
        "                                        ),\n",
        "                                    ]\n",
        "                                )\n",
        "                            ],\n",
        "                        )\n",
        "                    ],\n",
        "                ),\n",
        "            ]\n",
        "        ),\n",
        "    ],\n",
        ")"
      ],
      "execution_count": 28,
      "outputs": []
    },
    {
      "cell_type": "code",
      "metadata": {
        "id": "CPsXC0vnpi0a"
      },
      "source": [
        "@app.callback(\n",
        "    [Output(\"summarized-content\", \"value\"), Output(\"time-taken\", \"children\")],\n",
        "    [\n",
        "        Input(\"button-run\", \"n_clicks\"),\n",
        "        Input(\"max-length\", \"value\"),\n",
        "        Input(\"num-beams\", \"value\"),\n",
        "    ],\n",
        "    [State(\"original-text\", \"value\")],\n",
        ")\n",
        "def summarize(n_clicks, max_len, num_beams, original_text):\n",
        "    if original_text is None or original_text == \"\":\n",
        "        return \"\", \"Did not run\"\n",
        "\n",
        "    t0 = time.time()\n",
        "\n",
        "    inputs = tokenizer.batch_encode_plus(\n",
        "        [original_text], max_length=1024, return_tensors=\"pt\"\n",
        "    )\n",
        "    inputs = inputs.to(device)\n",
        "\n",
        "    # Generate Summary\n",
        "    summary_ids = model.generate(\n",
        "        inputs[\"input_ids\"],\n",
        "        num_beams=num_beams,\n",
        "        max_length=max_len,\n",
        "        early_stopping=True,\n",
        "    )\n",
        "    out = [\n",
        "        tokenizer.decode(\n",
        "            g, skip_special_tokens=True, clean_up_tokenization_spaces=False\n",
        "        )\n",
        "        for g in summary_ids\n",
        "    ]\n",
        "\n",
        "    t1 = time.time()\n",
        "    time_taken = f\"Summarized on {device} in {t1-t0:.2f}s\"\n",
        "\n",
        "    return out[0], time_taken"
      ],
      "execution_count": 29,
      "outputs": []
    },
    {
      "cell_type": "markdown",
      "metadata": {
        "id": "HQUSxYkLsbvp"
      },
      "source": [
        "Run the cell below to run your Jupyter Dash app. Click on the **temporary** URL to access the app."
      ]
    },
    {
      "cell_type": "code",
      "source": [
        "!pip install macrodemos --upgrade\n",
        "!pip install -q dash==1.19.0"
      ],
      "metadata": {
        "id": "o8arYU_fz3Jk",
        "outputId": "ab5b7488-c533-4d55-d35c-708a04c3301c",
        "colab": {
          "base_uri": "https://localhost:8080/"
        }
      },
      "execution_count": 30,
      "outputs": [
        {
          "output_type": "stream",
          "name": "stdout",
          "text": [
            "Looking in indexes: https://pypi.org/simple, https://us-python.pkg.dev/colab-wheels/public/simple/\n",
            "Requirement already satisfied: macrodemos in /usr/local/lib/python3.8/dist-packages (2021.9.7)\n",
            "Requirement already satisfied: pandas in /usr/local/lib/python3.8/dist-packages (from macrodemos) (1.3.5)\n",
            "Requirement already satisfied: plotly in /usr/local/lib/python3.8/dist-packages (from macrodemos) (5.5.0)\n",
            "Requirement already satisfied: numpy in /usr/local/lib/python3.8/dist-packages (from macrodemos) (1.21.6)\n",
            "Requirement already satisfied: statsmodels>=0.12 in /usr/local/lib/python3.8/dist-packages (from macrodemos) (0.12.2)\n",
            "Requirement already satisfied: dash in /usr/local/lib/python3.8/dist-packages (from macrodemos) (1.19.0)\n",
            "Requirement already satisfied: jupyter-dash in /usr/local/lib/python3.8/dist-packages (from macrodemos) (0.3.0rc1)\n",
            "Requirement already satisfied: patsy>=0.5 in /usr/local/lib/python3.8/dist-packages (from statsmodels>=0.12->macrodemos) (0.5.3)\n",
            "Requirement already satisfied: scipy>=1.1 in /usr/local/lib/python3.8/dist-packages (from statsmodels>=0.12->macrodemos) (1.7.3)\n",
            "Requirement already satisfied: python-dateutil>=2.7.3 in /usr/local/lib/python3.8/dist-packages (from pandas->macrodemos) (2.8.2)\n",
            "Requirement already satisfied: pytz>=2017.3 in /usr/local/lib/python3.8/dist-packages (from pandas->macrodemos) (2022.7.1)\n",
            "Requirement already satisfied: dash-core-components==1.15.0 in /usr/local/lib/python3.8/dist-packages (from dash->macrodemos) (1.15.0)\n",
            "Requirement already satisfied: dash-renderer==1.9.0 in /usr/local/lib/python3.8/dist-packages (from dash->macrodemos) (1.9.0)\n",
            "Requirement already satisfied: flask-compress in /usr/local/lib/python3.8/dist-packages (from dash->macrodemos) (1.13)\n",
            "Requirement already satisfied: dash-table==4.11.2 in /usr/local/lib/python3.8/dist-packages (from dash->macrodemos) (4.11.2)\n",
            "Requirement already satisfied: future in /usr/local/lib/python3.8/dist-packages (from dash->macrodemos) (0.16.0)\n",
            "Requirement already satisfied: dash-html-components==1.1.2 in /usr/local/lib/python3.8/dist-packages (from dash->macrodemos) (1.1.2)\n",
            "Requirement already satisfied: Flask>=1.0.4 in /usr/local/lib/python3.8/dist-packages (from dash->macrodemos) (1.1.4)\n",
            "Requirement already satisfied: requests in /usr/local/lib/python3.8/dist-packages (from jupyter-dash->macrodemos) (2.25.1)\n",
            "Requirement already satisfied: retrying in /usr/local/lib/python3.8/dist-packages (from jupyter-dash->macrodemos) (1.3.4)\n",
            "Requirement already satisfied: ipython in /usr/local/lib/python3.8/dist-packages (from jupyter-dash->macrodemos) (7.9.0)\n",
            "Requirement already satisfied: ansi2html in /usr/local/lib/python3.8/dist-packages (from jupyter-dash->macrodemos) (1.8.0)\n",
            "Requirement already satisfied: ipykernel in /usr/local/lib/python3.8/dist-packages (from jupyter-dash->macrodemos) (5.3.4)\n",
            "Requirement already satisfied: tenacity>=6.2.0 in /usr/local/lib/python3.8/dist-packages (from plotly->macrodemos) (8.1.0)\n",
            "Requirement already satisfied: six in /usr/local/lib/python3.8/dist-packages (from plotly->macrodemos) (1.15.0)\n",
            "Requirement already satisfied: itsdangerous<2.0,>=0.24 in /usr/local/lib/python3.8/dist-packages (from Flask>=1.0.4->dash->macrodemos) (1.1.0)\n",
            "Requirement already satisfied: click<8.0,>=5.1 in /usr/local/lib/python3.8/dist-packages (from Flask>=1.0.4->dash->macrodemos) (7.1.2)\n",
            "Requirement already satisfied: Werkzeug<2.0,>=0.15 in /usr/local/lib/python3.8/dist-packages (from Flask>=1.0.4->dash->macrodemos) (1.0.1)\n",
            "Requirement already satisfied: Jinja2<3.0,>=2.10.1 in /usr/local/lib/python3.8/dist-packages (from Flask>=1.0.4->dash->macrodemos) (2.11.3)\n",
            "Requirement already satisfied: brotli in /usr/local/lib/python3.8/dist-packages (from flask-compress->dash->macrodemos) (1.0.9)\n",
            "Requirement already satisfied: traitlets>=4.1.0 in /usr/local/lib/python3.8/dist-packages (from ipykernel->jupyter-dash->macrodemos) (5.7.1)\n",
            "Requirement already satisfied: tornado>=4.2 in /usr/local/lib/python3.8/dist-packages (from ipykernel->jupyter-dash->macrodemos) (6.0.4)\n",
            "Requirement already satisfied: jupyter-client in /usr/local/lib/python3.8/dist-packages (from ipykernel->jupyter-dash->macrodemos) (6.1.12)\n",
            "Requirement already satisfied: setuptools>=18.5 in /usr/local/lib/python3.8/dist-packages (from ipython->jupyter-dash->macrodemos) (57.4.0)\n",
            "Requirement already satisfied: prompt-toolkit<2.1.0,>=2.0.0 in /usr/local/lib/python3.8/dist-packages (from ipython->jupyter-dash->macrodemos) (2.0.10)\n",
            "Requirement already satisfied: backcall in /usr/local/lib/python3.8/dist-packages (from ipython->jupyter-dash->macrodemos) (0.2.0)\n",
            "Requirement already satisfied: jedi>=0.10 in /usr/local/lib/python3.8/dist-packages (from ipython->jupyter-dash->macrodemos) (0.18.2)\n",
            "Requirement already satisfied: decorator in /usr/local/lib/python3.8/dist-packages (from ipython->jupyter-dash->macrodemos) (4.4.2)\n",
            "Requirement already satisfied: pygments in /usr/local/lib/python3.8/dist-packages (from ipython->jupyter-dash->macrodemos) (2.6.1)\n",
            "Requirement already satisfied: pexpect in /usr/local/lib/python3.8/dist-packages (from ipython->jupyter-dash->macrodemos) (4.8.0)\n",
            "Requirement already satisfied: pickleshare in /usr/local/lib/python3.8/dist-packages (from ipython->jupyter-dash->macrodemos) (0.7.5)\n",
            "Requirement already satisfied: idna<3,>=2.5 in /usr/local/lib/python3.8/dist-packages (from requests->jupyter-dash->macrodemos) (2.10)\n",
            "Requirement already satisfied: urllib3<1.27,>=1.21.1 in /usr/local/lib/python3.8/dist-packages (from requests->jupyter-dash->macrodemos) (1.24.3)\n",
            "Requirement already satisfied: chardet<5,>=3.0.2 in /usr/local/lib/python3.8/dist-packages (from requests->jupyter-dash->macrodemos) (4.0.0)\n",
            "Requirement already satisfied: certifi>=2017.4.17 in /usr/local/lib/python3.8/dist-packages (from requests->jupyter-dash->macrodemos) (2022.12.7)\n",
            "Requirement already satisfied: parso<0.9.0,>=0.8.0 in /usr/local/lib/python3.8/dist-packages (from jedi>=0.10->ipython->jupyter-dash->macrodemos) (0.8.3)\n",
            "Requirement already satisfied: MarkupSafe>=0.23 in /usr/local/lib/python3.8/dist-packages (from Jinja2<3.0,>=2.10.1->Flask>=1.0.4->dash->macrodemos) (2.0.1)\n",
            "Requirement already satisfied: wcwidth in /usr/local/lib/python3.8/dist-packages (from prompt-toolkit<2.1.0,>=2.0.0->ipython->jupyter-dash->macrodemos) (0.2.6)\n",
            "Requirement already satisfied: jupyter-core>=4.6.0 in /usr/local/lib/python3.8/dist-packages (from jupyter-client->ipykernel->jupyter-dash->macrodemos) (5.2.0)\n",
            "Requirement already satisfied: pyzmq>=13 in /usr/local/lib/python3.8/dist-packages (from jupyter-client->ipykernel->jupyter-dash->macrodemos) (23.2.1)\n",
            "Requirement already satisfied: ptyprocess>=0.5 in /usr/local/lib/python3.8/dist-packages (from pexpect->ipython->jupyter-dash->macrodemos) (0.7.0)\n",
            "Requirement already satisfied: platformdirs>=2.5 in /usr/local/lib/python3.8/dist-packages (from jupyter-core>=4.6.0->jupyter-client->ipykernel->jupyter-dash->macrodemos) (2.6.2)\n"
          ]
        }
      ]
    },
    {
      "cell_type": "code",
      "metadata": {
        "id": "B_6lj6V3pk7I",
        "colab": {
          "base_uri": "https://localhost:8080/",
          "height": 187
        },
        "outputId": "a68cabde-d482-4439-b93e-9bdea1fff1dd"
      },
      "source": [
        "#app.run_server()\n",
        "app.dash()"
      ],
      "execution_count": 33,
      "outputs": [
        {
          "output_type": "error",
          "ename": "AttributeError",
          "evalue": "ignored",
          "traceback": [
            "\u001b[0;31m---------------------------------------------------------------------------\u001b[0m",
            "\u001b[0;31mAttributeError\u001b[0m                            Traceback (most recent call last)",
            "\u001b[0;32m<ipython-input-33-6a44891745f0>\u001b[0m in \u001b[0;36m<module>\u001b[0;34m\u001b[0m\n\u001b[1;32m      1\u001b[0m \u001b[0;31m#app.run_server()\u001b[0m\u001b[0;34m\u001b[0m\u001b[0;34m\u001b[0m\u001b[0;34m\u001b[0m\u001b[0m\n\u001b[0;32m----> 2\u001b[0;31m \u001b[0mapp\u001b[0m\u001b[0;34m.\u001b[0m\u001b[0mdash\u001b[0m\u001b[0;34m(\u001b[0m\u001b[0;34m)\u001b[0m\u001b[0;34m\u001b[0m\u001b[0;34m\u001b[0m\u001b[0m\n\u001b[0m",
            "\u001b[0;31mAttributeError\u001b[0m: 'Dash' object has no attribute 'dash'"
          ]
        }
      ]
    }
  ]
}