{
  "nbformat": 4,
  "nbformat_minor": 0,
  "metadata": {
    "colab": {
      "private_outputs": true,
      "provenance": [],
      "authorship_tag": "ABX9TyOoHOianRx5QNcTFNCjsqAi",
      "include_colab_link": true
    },
    "kernelspec": {
      "name": "python3",
      "display_name": "Python 3"
    },
    "language_info": {
      "name": "python"
    }
  },
  "cells": [
    {
      "cell_type": "markdown",
      "metadata": {
        "id": "view-in-github",
        "colab_type": "text"
      },
      "source": [
        "<a href=\"https://colab.research.google.com/github/cagBRT/Dash/blob/main/Dash_3.ipynb\" target=\"_parent\"><img src=\"https://colab.research.google.com/assets/colab-badge.svg\" alt=\"Open In Colab\"/></a>"
      ]
    },
    {
      "cell_type": "code",
      "execution_count": null,
      "metadata": {
        "id": "ctgbYYNSSB68"
      },
      "outputs": [],
      "source": []
    },
    {
      "cell_type": "code",
      "source": [
        "!pip install jupyter-dash"
      ],
      "metadata": {
        "id": "1jssVCpxyVQT"
      },
      "execution_count": null,
      "outputs": []
    },
    {
      "cell_type": "code",
      "source": [
        "import plotly.express as px\n",
        "from jupyter_dash import JupyterDash\n",
        "from dash.dependencies import Input, Output\n",
        "from dash import html\n",
        "from dash import dcc"
      ],
      "metadata": {
        "id": "WSoxxpcbyWgb"
      },
      "execution_count": null,
      "outputs": []
    },
    {
      "cell_type": "code",
      "source": [
        "app = JupyterDash(__name__)\n",
        "\n",
        "app.layout = html.Div(children=[\n",
        "    html.H1(children='Are you a cat person?'),\n",
        "    html.Label('Your name: '),\n",
        "    dcc.Input(id='input-div'),\n",
        "    html.Div(id='output-div', children=[])\n",
        "])\n",
        "\n",
        "@app.callback(\n",
        "        Output(component_id='output-div', component_property='children'),\n",
        "        [Input(component_id='input-div', component_property='value')]\n",
        ")\n",
        "def update_output(input_value):\n",
        "    if input_value is None or not input_value:\n",
        "        return ['You have not typed your name yet.']\n",
        "    if input_value == 'Heisenberg':\n",
        "        return ['You are a cat person.']\n",
        "    else:\n",
        "        return ['You are a dog person.']\n",
        "\n",
        "if __name__ == '__main__':\n",
        "    app.run_server(host='127.0.0.1', port=8888, debug=True)"
      ],
      "metadata": {
        "id": "PcgvfxDmSaHX"
      },
      "execution_count": null,
      "outputs": []
    },
    {
      "cell_type": "markdown",
      "source": [
        "Heisenberg to be a cat person"
      ],
      "metadata": {
        "id": "P9wQprbsS8V-"
      }
    }
  ]
}